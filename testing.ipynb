{
 "cells": [
  {
   "cell_type": "markdown",
   "id": "862a9203",
   "metadata": {},
   "source": [
    "# First look at computing derivatives analytically\n",
    "---\n",
    "In this notebook we try to test the features of sympy automatic derivative calculator. Given an energy function, we want to compute the following:\n",
    "- The force\n",
    "$$\\vec{F} = - \\nabla E$$\n",
    "- Force jacobians for implicit euler integration:\n",
    "$$\\frac{\\partial \\vec{F}}{\\partial \\vec{x}}\\quad\\quad\\frac{\\partial \\vec{F}}{\\partial \\vec{v}}$$\n",
    "- The derivative of the force wrt the phisical parameters (for differenciable simulations)\n",
    "$$\\frac{\\partial \\vec{F}}{\\partial \\vec{p}}$$"
   ]
  },
  {
   "cell_type": "code",
   "execution_count": 182,
   "id": "206c0d52",
   "metadata": {},
   "outputs": [
    {
     "data": {
      "text/latex": [
       "$\\displaystyle \\frac{k \\left(L - L_{0}\\right)^{2}}{2}$"
      ],
      "text/plain": [
       "k*(L - L0)**2/2"
      ]
     },
     "execution_count": 182,
     "metadata": {},
     "output_type": "execute_result"
    }
   ],
   "source": [
    "import sympy as sym\n",
    "\n",
    "x1, x2, y1, y2, z1, z2 = sym.symbols(\"x1 x2 y1 y2 z1 z2\")\n",
    "x1, x2, y1, y2, z1, z2 = sym.symbols(\"x1 x2 y1 y2 z1 z2\")\n",
    "p1 = sym.Matrix([x1, y1, z1])\n",
    "p2 = sym.Matrix([x2, y2, z2])\n",
    "L2 = (p1 - p2).dot(p1-p2)\n",
    "L = sym.Symbol(\"L\", positive=True)\n",
    "\n",
    "energy = sym.Rational(1,2) * sym.Symbol(\"k\") * ( L - sym.Symbol(\"L0\"))**2\n",
    "denergy = energy\n",
    "energy = energy.subs(L, sym.sqrt(L2))\n",
    "denergy"
   ]
  },
  {
   "cell_type": "code",
   "execution_count": 211,
   "id": "97eba4f1",
   "metadata": {},
   "outputs": [
    {
     "data": {
      "text/latex": [
       "$\\displaystyle \\left[\\begin{matrix}\\frac{k \\left(L - L_{0}\\right) \\left(x_{1} - x_{2}\\right)}{L}\\\\\\frac{k \\left(L - L_{0}\\right) \\left(y_{1} - y_{2}\\right)}{L}\\\\\\frac{k \\left(L - L_{0}\\right) \\left(z_{1} - z_{2}\\right)}{L}\\end{matrix}\\right]$"
      ],
      "text/plain": [
       "Matrix([\n",
       "[k*(L - L0)*(x1 - x2)/L],\n",
       "[k*(L - L0)*(y1 - y2)/L],\n",
       "[k*(L - L0)*(z1 - z2)/L]])"
      ]
     },
     "execution_count": 211,
     "metadata": {},
     "output_type": "execute_result"
    }
   ],
   "source": [
    "force1 = [sym.diff(energy, sym.Symbol(l)) for l in [\"x1\", \"y1\", \"z1\"]]\n",
    "force2 = [sym.diff(energy, sym.Symbol(l)) for l in [\"x2\", \"y2\", \"z2\"]]\n",
    "\n",
    "vforce1 = sym.Matrix(force1)\n",
    "vforce1 = sym.simplify(vforce1.subs(L2, L**2))\n",
    "vforce1"
   ]
  },
  {
   "cell_type": "code",
   "execution_count": 212,
   "id": "b31676f7",
   "metadata": {},
   "outputs": [],
   "source": [
    "dfdx1 = []\n",
    "for f1 in force1:\n",
    "    dfdx1.append([])\n",
    "    for l1 in [\"x1\", \"y1\", \"z1\"]:\n",
    "        dfdx1[-1].append(sym.diff(f1, l1))"
   ]
  },
  {
   "cell_type": "code",
   "execution_count": 213,
   "id": "7e164e86",
   "metadata": {},
   "outputs": [
    {
     "data": {
      "text/latex": [
       "$\\displaystyle \\left[\\begin{matrix}k - \\frac{L_{0} k}{L} + \\frac{L_{0} k \\left(x_{1} - x_{2}\\right)^{2}}{L^{3}} & \\frac{L_{0} k \\left(x_{1} - x_{2}\\right) \\left(y_{1} - y_{2}\\right)}{L^{3}} & \\frac{L_{0} k \\left(x_{1} - x_{2}\\right) \\left(z_{1} - z_{2}\\right)}{L^{3}}\\\\\\frac{L_{0} k \\left(x_{1} - x_{2}\\right) \\left(y_{1} - y_{2}\\right)}{L^{3}} & k - \\frac{L_{0} k}{L} + \\frac{L_{0} k \\left(y_{1} - y_{2}\\right)^{2}}{L^{3}} & \\frac{L_{0} k \\left(y_{1} - y_{2}\\right) \\left(z_{1} - z_{2}\\right)}{L^{3}}\\\\\\frac{L_{0} k \\left(x_{1} - x_{2}\\right) \\left(z_{1} - z_{2}\\right)}{L^{3}} & \\frac{L_{0} k \\left(y_{1} - y_{2}\\right) \\left(z_{1} - z_{2}\\right)}{L^{3}} & k - \\frac{L_{0} k}{L} + \\frac{L_{0} k \\left(z_{1} - z_{2}\\right)^{2}}{L^{3}}\\end{matrix}\\right]$"
      ],
      "text/plain": [
       "Matrix([\n",
       "[k - L0*k/L + L0*k*(x1 - x2)**2/L**3,       L0*k*(x1 - x2)*(y1 - y2)/L**3,       L0*k*(x1 - x2)*(z1 - z2)/L**3],\n",
       "[      L0*k*(x1 - x2)*(y1 - y2)/L**3, k - L0*k/L + L0*k*(y1 - y2)**2/L**3,       L0*k*(y1 - y2)*(z1 - z2)/L**3],\n",
       "[      L0*k*(x1 - x2)*(z1 - z2)/L**3,       L0*k*(y1 - y2)*(z1 - z2)/L**3, k - L0*k/L + L0*k*(z1 - z2)**2/L**3]])"
      ]
     },
     "execution_count": 213,
     "metadata": {},
     "output_type": "execute_result"
    }
   ],
   "source": [
    "test = sym.simplify(sym.Matrix(dfdx1).subs(L2, L**2))\n",
    "test"
   ]
  },
  {
   "cell_type": "code",
   "execution_count": 214,
   "id": "10b6d52f",
   "metadata": {},
   "outputs": [
    {
     "data": {
      "text/plain": [
       "'\\n\\n{{k - L0*k/L + L0*k*pow(x1 - x2, 2)/pow(L, 3), L0*k*(x1 - x2)*(y1 - y2)/pow(L, 3), L0*k*(x1 - x2)*(z1 - z2)/pow(L, 3)}, {L0*k*(x1 - x2)*(y1 - y2)/pow(L, 3), k - L0*k/L + L0*k*pow(y1 - y2, 2)/pow(L, 3), L0*k*(y1 - y2)*(z1 - z2)/pow(L, 3)}, {L0*k*(x1 - x2)*(z1 - z2)/pow(L, 3), L0*k*(y1 - y2)*(z1 - z2)/pow(L, 3), k - L0*k/L + L0*k*pow(z1 - z2, 2)/pow(L, 3)}}'"
      ]
     },
     "execution_count": 214,
     "metadata": {},
     "output_type": "execute_result"
    }
   ],
   "source": [
    "from sympy.codegen.cutils import render_as_source_file\n",
    "render_as_source_file(test.tolist())"
   ]
  },
  {
   "cell_type": "code",
   "execution_count": 215,
   "id": "7e7dd444",
   "metadata": {},
   "outputs": [],
   "source": [
    "dfdp = []\n",
    "for f1 in force1:\n",
    "    dfdp.append([])\n",
    "    for l1 in [\"k\", \"L0\"]:\n",
    "        dfdp[-1].append(sym.diff(f1, l1))"
   ]
  },
  {
   "cell_type": "code",
   "execution_count": 216,
   "id": "ea06700b",
   "metadata": {},
   "outputs": [
    {
     "data": {
      "text/latex": [
       "$\\displaystyle \\left[\\begin{matrix}\\frac{\\left(L - L_{0}\\right) \\left(x_{1} - x_{2}\\right)}{L} & \\frac{k \\left(- x_{1} + x_{2}\\right)}{L}\\\\\\frac{\\left(L - L_{0}\\right) \\left(y_{1} - y_{2}\\right)}{L} & \\frac{k \\left(- y_{1} + y_{2}\\right)}{L}\\\\\\frac{\\left(L - L_{0}\\right) \\left(z_{1} - z_{2}\\right)}{L} & \\frac{k \\left(- z_{1} + z_{2}\\right)}{L}\\end{matrix}\\right]$"
      ],
      "text/plain": [
       "Matrix([\n",
       "[(L - L0)*(x1 - x2)/L, k*(-x1 + x2)/L],\n",
       "[(L - L0)*(y1 - y2)/L, k*(-y1 + y2)/L],\n",
       "[(L - L0)*(z1 - z2)/L, k*(-z1 + z2)/L]])"
      ]
     },
     "execution_count": 216,
     "metadata": {},
     "output_type": "execute_result"
    }
   ],
   "source": [
    "test2 = sym.simplify(sym.Matrix(dfdp).subs(L2, L**2))\n",
    "test2"
   ]
  },
  {
   "cell_type": "code",
   "execution_count": 217,
   "id": "9b45766b",
   "metadata": {},
   "outputs": [
    {
     "data": {
      "text/plain": [
       "'\\n\\n{{(L - L0)*(x1 - x2)/L, k*(-x1 + x2)/L}, {(L - L0)*(y1 - y2)/L, k*(-y1 + y2)/L}, {(L - L0)*(z1 - z2)/L, k*(-z1 + z2)/L}}'"
      ]
     },
     "execution_count": 217,
     "metadata": {},
     "output_type": "execute_result"
    }
   ],
   "source": [
    "render_as_source_file(test2.tolist())"
   ]
  },
  {
   "cell_type": "code",
   "execution_count": 219,
   "id": "eeb0f04e",
   "metadata": {},
   "outputs": [],
   "source": [
    "keyword = \"@PARAMETER\"\n",
    "substitute = render_as_source_file(test.tolist())\n",
    "with open(\"test.cpp\", \"r\") as sourcefile:\n",
    "    read_content = sourcefile.read()\n",
    "    iind = read_content.find(keyword)\n",
    "    find = iind + len(keyword)\n",
    "    new_content = read_content[0:iind] + substitute + read_content[find:-1]\n",
    "    generatedfile = open(\"output.cpp\", \"w\")\n",
    "    generatedfile.write(new_content)\n",
    "    generatedfile.close()"
   ]
  },
  {
   "cell_type": "code",
   "execution_count": null,
   "id": "faca3358",
   "metadata": {},
   "outputs": [],
   "source": []
  }
 ],
 "metadata": {
  "kernelspec": {
   "display_name": "Python 3 (ipykernel)",
   "language": "python",
   "name": "python3"
  },
  "language_info": {
   "codemirror_mode": {
    "name": "ipython",
    "version": 3
   },
   "file_extension": ".py",
   "mimetype": "text/x-python",
   "name": "python",
   "nbconvert_exporter": "python",
   "pygments_lexer": "ipython3",
   "version": "3.10.10"
  }
 },
 "nbformat": 4,
 "nbformat_minor": 5
}
