{
 "cells": [
  {
   "cell_type": "markdown",
   "id": "862a9203",
   "metadata": {},
   "source": [
    "# First look at computing derivatives analytically\n",
    "---\n",
    "In this notebook we try to test the features of sympy automatic derivative calculator. Given an energy function, we want to compute the following:\n",
    "- The force\n",
    "$$\\vec{F} = - \\nabla E$$\n",
    "- Force jacobians for implicit euler integration:\n",
    "$$\\frac{\\partial \\vec{F}}{\\partial \\vec{x}}\\quad\\quad\\frac{\\partial \\vec{F}}{\\partial \\vec{v}}$$\n",
    "- The derivative of the force wrt the phisical parameters (for differenciable simulations)\n",
    "$$\\frac{\\partial \\vec{F}}{\\partial \\vec{p}}$$"
   ]
  },
  {
   "cell_type": "code",
   "execution_count": 1,
   "id": "206c0d52",
   "metadata": {},
   "outputs": [
    {
     "data": {
      "text/latex": [
       "$\\displaystyle \\frac{k \\left(L - L_{0}\\right)^{2}}{2}$"
      ],
      "text/plain": [
       "k*(L - L0)**2/2"
      ]
     },
     "execution_count": 1,
     "metadata": {},
     "output_type": "execute_result"
    }
   ],
   "source": [
    "import sympy as sym\n",
    "\n",
    "x1, x2, y1, y2, z1, z2 = sym.symbols(\"x1 x2 y1 y2 z1 z2\")\n",
    "p1 = sym.Matrix([x1, y1, z1])\n",
    "p2 = sym.Matrix([x2, y2, z2])\n",
    "L2 = (p1 - p2).dot(p1-p2)\n",
    "L = sym.Symbol(\"L\", positive=True)\n",
    "\n",
    "energy = sym.Rational(1,2) * sym.Symbol(\"k\") * ( L - sym.Symbol(\"L0\"))**2\n",
    "denergy = energy\n",
    "energy = energy.subs(L, sym.sqrt(L2))\n",
    "denergy"
   ]
  },
  {
   "cell_type": "code",
   "execution_count": 2,
   "id": "97eba4f1",
   "metadata": {},
   "outputs": [
    {
     "data": {
      "text/latex": [
       "$\\displaystyle \\left[\\begin{matrix}\\frac{k \\left(L - L_{0}\\right) \\left(x_{1} - x_{2}\\right)}{L}\\\\\\frac{k \\left(L - L_{0}\\right) \\left(y_{1} - y_{2}\\right)}{L}\\\\\\frac{k \\left(L - L_{0}\\right) \\left(z_{1} - z_{2}\\right)}{L}\\end{matrix}\\right]$"
      ],
      "text/plain": [
       "Matrix([\n",
       "[k*(L - L0)*(x1 - x2)/L],\n",
       "[k*(L - L0)*(y1 - y2)/L],\n",
       "[k*(L - L0)*(z1 - z2)/L]])"
      ]
     },
     "execution_count": 2,
     "metadata": {},
     "output_type": "execute_result"
    }
   ],
   "source": [
    "force1 = [sym.diff(energy, sym.Symbol(l)) for l in [\"x1\", \"y1\", \"z1\"]]\n",
    "force2 = [sym.diff(energy, sym.Symbol(l)) for l in [\"x2\", \"y2\", \"z2\"]]\n",
    "\n",
    "vforce1 = sym.Matrix(force1)\n",
    "vforce1 = sym.simplify(vforce1.subs(L2, L**2))\n",
    "vforce1"
   ]
  },
  {
   "cell_type": "code",
   "execution_count": 3,
   "id": "b31676f7",
   "metadata": {},
   "outputs": [],
   "source": [
    "dfdx1 = []\n",
    "for f1 in force1:\n",
    "    dfdx1.append([])\n",
    "    for l1 in [x1, y1, z1]:\n",
    "        dfdx1[-1].append(sym.diff(f1, l1))"
   ]
  },
  {
   "cell_type": "code",
   "execution_count": 4,
   "id": "7e164e86",
   "metadata": {},
   "outputs": [
    {
     "data": {
      "text/latex": [
       "$\\displaystyle \\left[\\begin{matrix}k - \\frac{L_{0} k}{L} + \\frac{L_{0} k \\left(x_{1} - x_{2}\\right)^{2}}{L^{3}} & \\frac{L_{0} k \\left(x_{1} - x_{2}\\right) \\left(y_{1} - y_{2}\\right)}{L^{3}} & \\frac{L_{0} k \\left(x_{1} - x_{2}\\right) \\left(z_{1} - z_{2}\\right)}{L^{3}}\\\\\\frac{L_{0} k \\left(x_{1} - x_{2}\\right) \\left(y_{1} - y_{2}\\right)}{L^{3}} & k - \\frac{L_{0} k}{L} + \\frac{L_{0} k \\left(y_{1} - y_{2}\\right)^{2}}{L^{3}} & \\frac{L_{0} k \\left(y_{1} - y_{2}\\right) \\left(z_{1} - z_{2}\\right)}{L^{3}}\\\\\\frac{L_{0} k \\left(x_{1} - x_{2}\\right) \\left(z_{1} - z_{2}\\right)}{L^{3}} & \\frac{L_{0} k \\left(y_{1} - y_{2}\\right) \\left(z_{1} - z_{2}\\right)}{L^{3}} & k - \\frac{L_{0} k}{L} + \\frac{L_{0} k \\left(z_{1} - z_{2}\\right)^{2}}{L^{3}}\\end{matrix}\\right]$"
      ],
      "text/plain": [
       "Matrix([\n",
       "[k - L0*k/L + L0*k*(x1 - x2)**2/L**3,       L0*k*(x1 - x2)*(y1 - y2)/L**3,       L0*k*(x1 - x2)*(z1 - z2)/L**3],\n",
       "[      L0*k*(x1 - x2)*(y1 - y2)/L**3, k - L0*k/L + L0*k*(y1 - y2)**2/L**3,       L0*k*(y1 - y2)*(z1 - z2)/L**3],\n",
       "[      L0*k*(x1 - x2)*(z1 - z2)/L**3,       L0*k*(y1 - y2)*(z1 - z2)/L**3, k - L0*k/L + L0*k*(z1 - z2)**2/L**3]])"
      ]
     },
     "execution_count": 4,
     "metadata": {},
     "output_type": "execute_result"
    }
   ],
   "source": [
    "test = sym.simplify(sym.Matrix(dfdx1).subs(L2, L**2))\n",
    "test"
   ]
  },
  {
   "cell_type": "code",
   "execution_count": 5,
   "id": "10b6d52f",
   "metadata": {},
   "outputs": [
    {
     "data": {
      "text/plain": [
       "'\\n\\n{{k - L0*k/L + L0*k*pow(x1 - x2, 2)/pow(L, 3), L0*k*(x1 - x2)*(y1 - y2)/pow(L, 3), L0*k*(x1 - x2)*(z1 - z2)/pow(L, 3)}, {L0*k*(x1 - x2)*(y1 - y2)/pow(L, 3), k - L0*k/L + L0*k*pow(y1 - y2, 2)/pow(L, 3), L0*k*(y1 - y2)*(z1 - z2)/pow(L, 3)}, {L0*k*(x1 - x2)*(z1 - z2)/pow(L, 3), L0*k*(y1 - y2)*(z1 - z2)/pow(L, 3), k - L0*k/L + L0*k*pow(z1 - z2, 2)/pow(L, 3)}}'"
      ]
     },
     "execution_count": 5,
     "metadata": {},
     "output_type": "execute_result"
    }
   ],
   "source": [
    "from sympy.codegen.cutils import render_as_source_file\n",
    "render_as_source_file(test.tolist())"
   ]
  },
  {
   "cell_type": "code",
   "execution_count": 6,
   "id": "7e7dd444",
   "metadata": {},
   "outputs": [],
   "source": [
    "dfdp = []\n",
    "for f1 in force1:\n",
    "    dfdp.append([])\n",
    "    for l1 in [\"k\", \"L0\"]:\n",
    "        dfdp[-1].append(sym.diff(f1, l1))"
   ]
  },
  {
   "cell_type": "code",
   "execution_count": 7,
   "id": "ea06700b",
   "metadata": {},
   "outputs": [
    {
     "data": {
      "text/latex": [
       "$\\displaystyle \\left[\\begin{matrix}\\frac{\\left(L - L_{0}\\right) \\left(x_{1} - x_{2}\\right)}{L} & \\frac{k \\left(- x_{1} + x_{2}\\right)}{L}\\\\\\frac{\\left(L - L_{0}\\right) \\left(y_{1} - y_{2}\\right)}{L} & \\frac{k \\left(- y_{1} + y_{2}\\right)}{L}\\\\\\frac{\\left(L - L_{0}\\right) \\left(z_{1} - z_{2}\\right)}{L} & \\frac{k \\left(- z_{1} + z_{2}\\right)}{L}\\end{matrix}\\right]$"
      ],
      "text/plain": [
       "Matrix([\n",
       "[(L - L0)*(x1 - x2)/L, k*(-x1 + x2)/L],\n",
       "[(L - L0)*(y1 - y2)/L, k*(-y1 + y2)/L],\n",
       "[(L - L0)*(z1 - z2)/L, k*(-z1 + z2)/L]])"
      ]
     },
     "execution_count": 7,
     "metadata": {},
     "output_type": "execute_result"
    }
   ],
   "source": [
    "test2 = sym.simplify(sym.Matrix(dfdp).subs(L2, L**2))\n",
    "test2"
   ]
  },
  {
   "cell_type": "code",
   "execution_count": 8,
   "id": "9b45766b",
   "metadata": {},
   "outputs": [
    {
     "data": {
      "text/plain": [
       "'\\n\\n{{(L - L0)*(x1 - x2)/L, k*(-x1 + x2)/L}, {(L - L0)*(y1 - y2)/L, k*(-y1 + y2)/L}, {(L - L0)*(z1 - z2)/L, k*(-z1 + z2)/L}}'"
      ]
     },
     "execution_count": 8,
     "metadata": {},
     "output_type": "execute_result"
    }
   ],
   "source": [
    "render_as_source_file(test2.tolist())"
   ]
  },
  {
   "cell_type": "code",
   "execution_count": 9,
   "id": "eeb0f04e",
   "metadata": {},
   "outputs": [],
   "source": [
    "keyword = \"@PARAMETER\"\n",
    "substitute = render_as_source_file(test.tolist())\n",
    "with open(\"test.cpp\", \"r\") as sourcefile:\n",
    "    read_content = sourcefile.read()\n",
    "    iind = read_content.find(keyword)\n",
    "    find = iind + len(keyword)\n",
    "    new_content = read_content[0:iind] + substitute + read_content[find:]\n",
    "    generatedfile = open(\"output.cpp\", \"w\")\n",
    "    generatedfile.write(new_content)\n",
    "    generatedfile.close()"
   ]
  },
  {
   "cell_type": "code",
   "execution_count": 10,
   "id": "faca3358",
   "metadata": {},
   "outputs": [],
   "source": [
    "def substitute_words(keyword : str, substitute : str, filecontent : str) -> str:\n",
    "    start_index = filecontent.find(keyword)\n",
    "    if (start_index < 0): return filecontent\n",
    "    end_index = start_index + len(keyword)\n",
    "    new_content = filecontent[0:start_index] + substitute + filecontent[end_index:]\n",
    "    return substitute_words(keyword, substitute, new_content)"
   ]
  },
  {
   "cell_type": "code",
   "execution_count": 11,
   "id": "d77e98db",
   "metadata": {},
   "outputs": [],
   "source": [
    "import sympy as sym\n",
    "x1, x2, y1, y2, z1, z2 = sym.symbols(\"x1 x2 y1 y2 z1 z2\")\n",
    "vx1, vx2, vy1, vy2, vz1, vz2 = sym.symbols(\"vx1 vx2 vy1 vy2 vz1 vz2\")\n",
    "p1 = sym.Matrix([x1, y1, z1])\n",
    "p2 = sym.Matrix([x2, y2, z2])\n",
    "L2 = (p1 - p2).dot(p1-p2)\n",
    "L = sym.Symbol(\"L\", positive=True)\n",
    "\n",
    "energy = sym.Rational(1,2) * sym.Symbol(\"k\") * ( L - sym.Symbol(\"L0\"))**2\n",
    "energy = energy.subs(L, sym.sqrt(L2))\n",
    "\n",
    "parameters = [sym.Symbol(\"k\"), sym.Symbol(\"L0\")]\n",
    "\n",
    "differenciable_parameters = [sym.Symbol(\"k\")]\n",
    "\n",
    "class InteractionGenerator:\n",
    "    def __init__(self, energy, parameters, differenciable_parameters, classname):\n",
    "        self.energy = energy\n",
    "        self.parameters = parameters\n",
    "        self.differenciable_parameters = differenciable_parameters\n",
    "        self.classname = classname\n",
    "        \n",
    "        self.energy_str = sym.ccode(sym.simplify(energy.subs(L2, L**2)))\n",
    "        self.parameters_array = sym.ccode([p for p in parameters])\n",
    "        \n",
    "        self.calculate_force()\n",
    "        self.calculate_force_position_derivative()\n",
    "        self.calculate_force_velocity_derivative()\n",
    "        self.calculate_force_parameter_derivative()\n",
    "    \n",
    "    def calculate_force(self):\n",
    "        self.force = [-sym.diff(energy, sym.Symbol(l)) for l in [\"x1\", \"y1\", \"z1\"]]\n",
    "        \n",
    "        # Force string\n",
    "        tmp = sym.Matrix(self.force)\n",
    "        tmp = sym.simplify(tmp.subs(L2, L**2))\n",
    "        self.force_str = sym.ccode(tmp.tolist())\n",
    "    \n",
    "    def print_force(self):\n",
    "        tmp = sym.Matrix(self.force)\n",
    "        tmp = sym.simplify(tmp.subs(L2, L**2))\n",
    "        return(tmp)\n",
    "    \n",
    "    def calculate_force_position_derivative(self):\n",
    "        self.dfdx = []\n",
    "        for f in self.force:\n",
    "            self.dfdx.append([])\n",
    "            for l1 in (x1, y1, z1):\n",
    "                self.dfdx[-1].append(sym.diff(f, l1))\n",
    "        \n",
    "        tmp = sym.simplify(sym.Matrix(self.dfdx).subs(L2, L**2))\n",
    "        self.dfdx_str = sym.ccode(tmp.tolist())\n",
    "        \n",
    "    def calculate_force_velocity_derivative(self):\n",
    "        dfdv = []\n",
    "        for f in self.force:\n",
    "            dfdv.append([])\n",
    "            for l1 in [vx1, vy1, vz1]:\n",
    "                dfdv[-1].append(sym.diff(f, l1))\n",
    "        self.dfdv = dfdv\n",
    "        \n",
    "        tmp = sym.simplify(sym.Matrix(self.dfdv).subs(L2, L**2))\n",
    "        self.dfdv_str = sym.ccode(tmp.tolist())\n",
    "        \n",
    "    def print_dfdx(self):\n",
    "        tmp = sym.simplify(sym.Matrix(self.dfdx).subs(L2, L**2))\n",
    "        return tmp\n",
    "    \n",
    "    def print_dfdv(self):\n",
    "        tmp = sym.simplify(sym.Matrix(self.dfdv).subs(L2, L**2))\n",
    "        return tmp\n",
    "    \n",
    "    def calculate_force_parameter_derivative(self):\n",
    "        dfdp = []\n",
    "        for f in self.force:\n",
    "            dfdp.append([])\n",
    "            for l1 in differenciable_parameters:\n",
    "                dfdp[-1].append(sym.diff(f, l1))\n",
    "                \n",
    "        self.dfdp = dfdp\n",
    "        \n",
    "        tmp = sym.simplify(sym.Matrix(self.dfdp).subs(L2, L**2))\n",
    "        self.dfdp_str = sym.ccode(tmp.tolist())\n",
    "    \n",
    "    def print_dfdp(self):\n",
    "        tmp = sym.simplify(sym.Matrix(self.dfdp).subs(L2, L**2))\n",
    "        return tmp\n",
    "    \n",
    "    def write_file(self, readfilepath : str, writefilepath : str):\n",
    "        for i, p in enumerate(self.parameters):\n",
    "            self.energy_str = substitute_words(p.name, f\"parameters[{i}]\", self.energy_str)\n",
    "            self.force_str = substitute_words(p.name, f\"parameters[{i}]\", self.force_str)\n",
    "            self.dfdx_str = substitute_words(p.name, f\"parameters[{i}]\", self.dfdx_str)\n",
    "            self.dfdv_str = substitute_words(p.name, f\"parameters[{i}]\", self.dfdv_str)\n",
    "            self.dfdp_str = substitute_words(p.name, f\"parameters[{i}]\", self.dfdp_str)\n",
    "        \n",
    "        ClassToGenerate = {\n",
    "            \"@CLASSNAME\" : self.classname,\n",
    "            \"@WARNING_TEXT\" : \"\\n!!!!!!!!!!!!!!!!!!!\\nDO NOT EDIT THIS FILE\\n!!!!!!!!!!!!!!!!!!!\\nThis file has been generated from the template <python_interaction.cpp> using a python script.\\n\",\n",
    "            \"@NUMBER_OF_PARAMETERS\" : len(self.parameters),\n",
    "            \"@PARAMETERS_ARRAY\" : self.parameters_array,\n",
    "            \"@ENERGY_CALCULATION\" : self.energy_str,\n",
    "            \"@FORCE_CALCULATION\" : self.force_str,\n",
    "            \"@FORCE_POSITION_DERIVATIVE_CALCULATION\" : self.dfdx_str,\n",
    "            \"@FORCE_VELOCITY_DERIVATIVE_CALCULATION\" : self.dfdv_str,\n",
    "            \"@FORCE_PARAMETERS_DERIVATIVE_CALCULATION\" : self.dfdp_str,\n",
    "        }\n",
    "        with open(readfilepath, \"r\") as readfile:\n",
    "            content = readfile.read()\n",
    "            for keyword, value in zip(ClassToGenerate.keys(), ClassToGenerate.values()):\n",
    "                content = substitute_words(keyword, str(value), content)\n",
    "                with open(writefilepath, 'w') as writefile:\n",
    "                    writefile.write(content)"
   ]
  },
  {
   "cell_type": "code",
   "execution_count": 12,
   "id": "92101dce",
   "metadata": {},
   "outputs": [
    {
     "data": {
      "text/latex": [
       "$\\displaystyle \\left[\\begin{matrix}- \\frac{k \\left(L - L_{0}\\right) \\left(x_{1} - x_{2}\\right)}{L}\\\\- \\frac{k \\left(L - L_{0}\\right) \\left(y_{1} - y_{2}\\right)}{L}\\\\- \\frac{k \\left(L - L_{0}\\right) \\left(z_{1} - z_{2}\\right)}{L}\\end{matrix}\\right]$"
      ],
      "text/plain": [
       "Matrix([\n",
       "[-k*(L - L0)*(x1 - x2)/L],\n",
       "[-k*(L - L0)*(y1 - y2)/L],\n",
       "[-k*(L - L0)*(z1 - z2)/L]])"
      ]
     },
     "execution_count": 12,
     "metadata": {},
     "output_type": "execute_result"
    }
   ],
   "source": [
    "a = InteractionGenerator(energy, parameters, differenciable_parameters,\"TestingSpring\")\n",
    "a.print_force()\n",
    "#sym.simplify(sym.diff(a.force[0],z1).subs(L2, L**2))"
   ]
  },
  {
   "cell_type": "code",
   "execution_count": 13,
   "id": "fedcec13",
   "metadata": {
    "scrolled": true
   },
   "outputs": [
    {
     "data": {
      "text/latex": [
       "$\\displaystyle \\left[\\begin{matrix}- k + \\frac{L_{0} k}{L} - \\frac{L_{0} k \\left(x_{1} - x_{2}\\right)^{2}}{L^{3}} & - \\frac{L_{0} k \\left(x_{1} - x_{2}\\right) \\left(y_{1} - y_{2}\\right)}{L^{3}} & - \\frac{L_{0} k \\left(x_{1} - x_{2}\\right) \\left(z_{1} - z_{2}\\right)}{L^{3}}\\\\- \\frac{L_{0} k \\left(x_{1} - x_{2}\\right) \\left(y_{1} - y_{2}\\right)}{L^{3}} & - k + \\frac{L_{0} k}{L} - \\frac{L_{0} k \\left(y_{1} - y_{2}\\right)^{2}}{L^{3}} & - \\frac{L_{0} k \\left(y_{1} - y_{2}\\right) \\left(z_{1} - z_{2}\\right)}{L^{3}}\\\\- \\frac{L_{0} k \\left(x_{1} - x_{2}\\right) \\left(z_{1} - z_{2}\\right)}{L^{3}} & - \\frac{L_{0} k \\left(y_{1} - y_{2}\\right) \\left(z_{1} - z_{2}\\right)}{L^{3}} & - k + \\frac{L_{0} k}{L} - \\frac{L_{0} k \\left(z_{1} - z_{2}\\right)^{2}}{L^{3}}\\end{matrix}\\right]$"
      ],
      "text/plain": [
       "Matrix([\n",
       "[-k + L0*k/L - L0*k*(x1 - x2)**2/L**3,       -L0*k*(x1 - x2)*(y1 - y2)/L**3,       -L0*k*(x1 - x2)*(z1 - z2)/L**3],\n",
       "[      -L0*k*(x1 - x2)*(y1 - y2)/L**3, -k + L0*k/L - L0*k*(y1 - y2)**2/L**3,       -L0*k*(y1 - y2)*(z1 - z2)/L**3],\n",
       "[      -L0*k*(x1 - x2)*(z1 - z2)/L**3,       -L0*k*(y1 - y2)*(z1 - z2)/L**3, -k + L0*k/L - L0*k*(z1 - z2)**2/L**3]])"
      ]
     },
     "execution_count": 13,
     "metadata": {},
     "output_type": "execute_result"
    }
   ],
   "source": [
    "a.print_dfdx()"
   ]
  },
  {
   "cell_type": "code",
   "execution_count": 15,
   "id": "7d60ae9b",
   "metadata": {},
   "outputs": [],
   "source": [
    "a.write_file(\"../backward_euler/include/python_interaction.hpp\",\n",
    "            \"../backward_euler/include/spring_test.hpp\")"
   ]
  },
  {
   "cell_type": "code",
   "execution_count": null,
   "id": "54ae0804",
   "metadata": {},
   "outputs": [],
   "source": []
  },
  {
   "cell_type": "code",
   "execution_count": null,
   "id": "a02cdd82",
   "metadata": {},
   "outputs": [],
   "source": []
  }
 ],
 "metadata": {
  "kernelspec": {
   "display_name": "Python 3 (ipykernel)",
   "language": "python",
   "name": "python3"
  },
  "language_info": {
   "codemirror_mode": {
    "name": "ipython",
    "version": 3
   },
   "file_extension": ".py",
   "mimetype": "text/x-python",
   "name": "python",
   "nbconvert_exporter": "python",
   "pygments_lexer": "ipython3",
   "version": "3.10.10"
  }
 },
 "nbformat": 4,
 "nbformat_minor": 5
}
